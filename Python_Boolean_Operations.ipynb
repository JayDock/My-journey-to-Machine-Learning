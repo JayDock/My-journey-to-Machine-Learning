{
  "nbformat": 4,
  "nbformat_minor": 0,
  "metadata": {
    "colab": {
      "name": "Python Boolean Operations.ipynb",
      "provenance": [],
      "authorship_tag": "ABX9TyPaoq+SDrd8iYLiNYW1Z9k0",
      "include_colab_link": true
    },
    "kernelspec": {
      "name": "python3",
      "display_name": "Python 3"
    },
    "language_info": {
      "name": "python"
    }
  },
  "cells": [
    {
      "cell_type": "markdown",
      "metadata": {
        "id": "view-in-github",
        "colab_type": "text"
      },
      "source": [
        "<a href=\"https://colab.research.google.com/github/JayDock/My-journey-to-Machine-Learning/blob/main/Python_Boolean_Operations.ipynb\" target=\"_parent\"><img src=\"https://colab.research.google.com/assets/colab-badge.svg\" alt=\"Open In Colab\"/></a>"
      ]
    },
    {
      "cell_type": "code",
      "metadata": {
        "colab": {
          "base_uri": "https://localhost:8080/"
        },
        "id": "Yp4kLI8akrlb",
        "outputId": "2be97889-e7be-49e3-e295-f0e3a215651b"
      },
      "source": [
        "type(True)"
      ],
      "execution_count": 1,
      "outputs": [
        {
          "output_type": "execute_result",
          "data": {
            "text/plain": [
              "bool"
            ]
          },
          "metadata": {
            "tags": []
          },
          "execution_count": 1
        }
      ]
    },
    {
      "cell_type": "code",
      "metadata": {
        "colab": {
          "base_uri": "https://localhost:8080/"
        },
        "id": "UahOudH9k9IZ",
        "outputId": "84505d5e-e348-4e35-9e4f-4f215e210f0e"
      },
      "source": [
        "type(False)"
      ],
      "execution_count": 2,
      "outputs": [
        {
          "output_type": "execute_result",
          "data": {
            "text/plain": [
              "bool"
            ]
          },
          "metadata": {
            "tags": []
          },
          "execution_count": 2
        }
      ]
    },
    {
      "cell_type": "code",
      "metadata": {
        "colab": {
          "base_uri": "https://localhost:8080/"
        },
        "id": "EoYAI3zjlB85",
        "outputId": "322bc2a4-474b-4df0-e5df-e226e1ce6e4e"
      },
      "source": [
        "my_str = 'Jayalakshmi123'\n",
        "my_str.istitle()  #returns True is the first character of each word  is in uppercase and the rest are in lowe case\n"
      ],
      "execution_count": 3,
      "outputs": [
        {
          "output_type": "execute_result",
          "data": {
            "text/plain": [
              "True"
            ]
          },
          "metadata": {
            "tags": []
          },
          "execution_count": 3
        }
      ]
    },
    {
      "cell_type": "code",
      "metadata": {
        "colab": {
          "base_uri": "https://localhost:8080/"
        },
        "id": "hg5EeY6klKbk",
        "outputId": "3165d6d3-8e36-45b7-e070-736a3b827de4"
      },
      "source": [
        "print(my_str.isalnum()) #check if all characters are numbers\n",
        "print(my_str.isalpha()) #check if all the characters are alphabets\n",
        "print(my_str.isdigit()) #test if strings contain digits\n",
        "print(my_str.istitle())\n",
        "print(my_str.islower()) #test if string contains lower case \n",
        "print(my_str.isupper()) #test if string contains upper case\n",
        "print(my_str.isspace()) #check if string contains space\n",
        "print(my_str.endswith ('j'))\n",
        "print(my_str.startswith('J'))"
      ],
      "execution_count": 4,
      "outputs": [
        {
          "output_type": "stream",
          "text": [
            "True\n",
            "False\n",
            "False\n",
            "True\n",
            "False\n",
            "False\n",
            "False\n",
            "False\n",
            "True\n"
          ],
          "name": "stdout"
        }
      ]
    },
    {
      "cell_type": "markdown",
      "metadata": {
        "id": "aLu2xtPZluRL"
      },
      "source": [
        "## **Boolean and Logical Operations**"
      ]
    },
    {
      "cell_type": "code",
      "metadata": {
        "colab": {
          "base_uri": "https://localhost:8080/"
        },
        "id": "xYUsBuQMl28C",
        "outputId": "6d7e4199-3301-482f-9078-a66a8341934a"
      },
      "source": [
        "True and True"
      ],
      "execution_count": 5,
      "outputs": [
        {
          "output_type": "execute_result",
          "data": {
            "text/plain": [
              "True"
            ]
          },
          "metadata": {
            "tags": []
          },
          "execution_count": 5
        }
      ]
    },
    {
      "cell_type": "code",
      "metadata": {
        "colab": {
          "base_uri": "https://localhost:8080/"
        },
        "id": "O5hNda_Vl8CU",
        "outputId": "af4c7dae-0eea-47bf-8c38-28645a4959af"
      },
      "source": [
        "True and False"
      ],
      "execution_count": 6,
      "outputs": [
        {
          "output_type": "execute_result",
          "data": {
            "text/plain": [
              "False"
            ]
          },
          "metadata": {
            "tags": []
          },
          "execution_count": 6
        }
      ]
    },
    {
      "cell_type": "code",
      "metadata": {
        "colab": {
          "base_uri": "https://localhost:8080/"
        },
        "id": "Ze_OxPlhl_rW",
        "outputId": "5a22f5e9-65d0-4aa1-9f32-ef647fae99c8"
      },
      "source": [
        "False and False"
      ],
      "execution_count": 7,
      "outputs": [
        {
          "output_type": "execute_result",
          "data": {
            "text/plain": [
              "False"
            ]
          },
          "metadata": {
            "tags": []
          },
          "execution_count": 7
        }
      ]
    },
    {
      "cell_type": "code",
      "metadata": {
        "colab": {
          "base_uri": "https://localhost:8080/"
        },
        "id": "DH2wpThdmFa8",
        "outputId": "01b0e498-bac1-4237-f2b1-93f199409a05"
      },
      "source": [
        "False and True"
      ],
      "execution_count": 8,
      "outputs": [
        {
          "output_type": "execute_result",
          "data": {
            "text/plain": [
              "False"
            ]
          },
          "metadata": {
            "tags": []
          },
          "execution_count": 8
        }
      ]
    },
    {
      "cell_type": "code",
      "metadata": {
        "colab": {
          "base_uri": "https://localhost:8080/"
        },
        "id": "xKrPTNJEmI2b",
        "outputId": "eab0a46c-ba45-4c58-ea32-f458422e5ccb"
      },
      "source": [
        "my_str = 'Jaya'\n",
        "my_example = 'Lakshmi'\n",
        "my_str.isalpha() or my_example.isnum()"
      ],
      "execution_count": 9,
      "outputs": [
        {
          "output_type": "execute_result",
          "data": {
            "text/plain": [
              "True"
            ]
          },
          "metadata": {
            "tags": []
          },
          "execution_count": 9
        }
      ]
    }
  ]
}