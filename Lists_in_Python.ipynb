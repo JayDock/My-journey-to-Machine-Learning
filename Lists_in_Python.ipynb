{
  "nbformat": 4,
  "nbformat_minor": 0,
  "metadata": {
    "colab": {
      "name": "Lists in Python.ipynb",
      "provenance": [],
      "authorship_tag": "ABX9TyN2ijWbVpE69mWksxROoq/m",
      "include_colab_link": true
    },
    "kernelspec": {
      "name": "python3",
      "display_name": "Python 3"
    },
    "language_info": {
      "name": "python"
    }
  },
  "cells": [
    {
      "cell_type": "markdown",
      "metadata": {
        "id": "view-in-github",
        "colab_type": "text"
      },
      "source": [
        "<a href=\"https://colab.research.google.com/github/JayDock/My-journey-to-Machine-Learning/blob/main/Lists_in_Python.ipynb\" target=\"_parent\"><img src=\"https://colab.research.google.com/assets/colab-badge.svg\" alt=\"Open In Colab\"/></a>"
      ]
    },
    {
      "cell_type": "markdown",
      "metadata": {
        "id": "jH_lNyxPpNKj"
      },
      "source": [
        "# **List**\n",
        "\n",
        "A list is a data structure in python. Lists are mutable, changeable,and have a ordered sequence. Each element in a list is called as an item. It is represented as []"
      ]
    },
    {
      "cell_type": "code",
      "metadata": {
        "colab": {
          "base_uri": "https://localhost:8080/"
        },
        "id": "bXB6oVM7nSn4",
        "outputId": "2a0bbe10-b6a2-48b8-830e-a0faf57e2234"
      },
      "source": [
        "type([])"
      ],
      "execution_count": 1,
      "outputs": [
        {
          "output_type": "execute_result",
          "data": {
            "text/plain": [
              "list"
            ]
          },
          "metadata": {
            "tags": []
          },
          "execution_count": 1
        }
      ]
    },
    {
      "cell_type": "code",
      "metadata": {
        "colab": {
          "base_uri": "https://localhost:8080/"
        },
        "id": "7uKzI50rpL_3",
        "outputId": "99591f8a-bb23-420d-f434-1e7c1809f1cc"
      },
      "source": [
        "list_examples = []\n",
        "type(list_examples)"
      ],
      "execution_count": 2,
      "outputs": [
        {
          "output_type": "execute_result",
          "data": {
            "text/plain": [
              "list"
            ]
          },
          "metadata": {
            "tags": []
          },
          "execution_count": 2
        }
      ]
    },
    {
      "cell_type": "code",
      "metadata": {
        "colab": {
          "base_uri": "https://localhost:8080/"
        },
        "id": "9fgIQoTErcZ-",
        "outputId": "92a8bbd1-57c7-4f9b-b91e-1083a9af1058"
      },
      "source": [
        "lst = list()\n",
        "type(lst)"
      ],
      "execution_count": 3,
      "outputs": [
        {
          "output_type": "execute_result",
          "data": {
            "text/plain": [
              "list"
            ]
          },
          "metadata": {
            "tags": []
          },
          "execution_count": 3
        }
      ]
    },
    {
      "cell_type": "code",
      "metadata": {
        "id": "f9d-DRyNrqYf"
      },
      "source": [
        "lst=['Mathematics', 'chemistry', 100, 200, 300, 204]"
      ],
      "execution_count": 4,
      "outputs": []
    },
    {
      "cell_type": "code",
      "metadata": {
        "colab": {
          "base_uri": "https://localhost:8080/"
        },
        "id": "nzHIBDIbrp1r",
        "outputId": "f5254033-1be1-4934-8361-60e250af9ece"
      },
      "source": [
        "type(lst)"
      ],
      "execution_count": 5,
      "outputs": [
        {
          "output_type": "execute_result",
          "data": {
            "text/plain": [
              "list"
            ]
          },
          "metadata": {
            "tags": []
          },
          "execution_count": 5
        }
      ]
    },
    {
      "cell_type": "code",
      "metadata": {
        "colab": {
          "base_uri": "https://localhost:8080/"
        },
        "id": "F8DnwLg7rpqe",
        "outputId": "03e91f34-29e0-4373-cbfa-b671a0223fb9"
      },
      "source": [
        "len(lst)"
      ],
      "execution_count": 6,
      "outputs": [
        {
          "output_type": "execute_result",
          "data": {
            "text/plain": [
              "6"
            ]
          },
          "metadata": {
            "tags": []
          },
          "execution_count": 6
        }
      ]
    },
    {
      "cell_type": "markdown",
      "metadata": {
        "id": "YWU1_K_Xr-6B"
      },
      "source": [
        "# **Append**"
      ]
    },
    {
      "cell_type": "code",
      "metadata": {
        "colab": {
          "base_uri": "https://localhost:8080/"
        },
        "id": "z8ysqiF_sDKX",
        "outputId": "93c3d11c-60a2-4b88-a615-4521dc54266a"
      },
      "source": [
        "lst.append('Jaya')\n",
        "lst"
      ],
      "execution_count": 7,
      "outputs": [
        {
          "output_type": "execute_result",
          "data": {
            "text/plain": [
              "['Mathematics', 'chemistry', 100, 200, 300, 204, 'Jaya']"
            ]
          },
          "metadata": {
            "tags": []
          },
          "execution_count": 7
        }
      ]
    },
    {
      "cell_type": "markdown",
      "metadata": {
        "id": "dj0LtD26sX7H"
      },
      "source": [
        "# **Insert**"
      ]
    },
    {
      "cell_type": "code",
      "metadata": {
        "colab": {
          "base_uri": "https://localhost:8080/"
        },
        "id": "lV0QOFjDsXBu",
        "outputId": "a3d38b2a-e21e-464b-a0ba-471ef579f5eb"
      },
      "source": [
        "lst.insert(1, 'hi')\n",
        "lst"
      ],
      "execution_count": 8,
      "outputs": [
        {
          "output_type": "execute_result",
          "data": {
            "text/plain": [
              "['Mathematics', 'hi', 'chemistry', 100, 200, 300, 204, 'Jaya']"
            ]
          },
          "metadata": {
            "tags": []
          },
          "execution_count": 8
        }
      ]
    },
    {
      "cell_type": "code",
      "metadata": {
        "colab": {
          "base_uri": "https://localhost:8080/"
        },
        "id": "kdlTByWQstzF",
        "outputId": "4c18811c-898a-4999-bb71-d945e2443e26"
      },
      "source": [
        "lst = [1, 2, 3]\n",
        "lst.append([4,5])\n",
        "lst"
      ],
      "execution_count": 17,
      "outputs": [
        {
          "output_type": "execute_result",
          "data": {
            "text/plain": [
              "[1, 2, 3, [4, 5]]"
            ]
          },
          "metadata": {
            "tags": []
          },
          "execution_count": 17
        }
      ]
    },
    {
      "cell_type": "markdown",
      "metadata": {
        "id": "3QG7GvACujbE"
      },
      "source": [
        "# **Extend**"
      ]
    },
    {
      "cell_type": "code",
      "metadata": {
        "colab": {
          "base_uri": "https://localhost:8080/"
        },
        "id": "4AVWCAL1unP1",
        "outputId": "6dc388cf-c314-4150-c8ea-766f2ff6492a"
      },
      "source": [
        "lst = [1,2,3, 4, 5, 6]\n",
        "lst.extend([8,9])\n",
        "lst"
      ],
      "execution_count": 19,
      "outputs": [
        {
          "output_type": "execute_result",
          "data": {
            "text/plain": [
              "[1, 2, 3, 4, 5, 6, 8, 9]"
            ]
          },
          "metadata": {
            "tags": []
          },
          "execution_count": 19
        }
      ]
    },
    {
      "cell_type": "markdown",
      "metadata": {
        "id": "nPwCBrNQvlDf"
      },
      "source": [
        "# **Various operations on list**"
      ]
    },
    {
      "cell_type": "code",
      "metadata": {
        "colab": {
          "base_uri": "https://localhost:8080/"
        },
        "id": "stFcFC0GvplK",
        "outputId": "73f32379-2327-4ef6-bf53-6a808f60d1d5"
      },
      "source": [
        "lst = [1, 2, 3, 4, 5]\n",
        "sum(lst)"
      ],
      "execution_count": 20,
      "outputs": [
        {
          "output_type": "execute_result",
          "data": {
            "text/plain": [
              "15"
            ]
          },
          "metadata": {
            "tags": []
          },
          "execution_count": 20
        }
      ]
    },
    {
      "cell_type": "markdown",
      "metadata": {
        "id": "yEo7YTD7vwav"
      },
      "source": [
        "# **pop()**"
      ]
    },
    {
      "cell_type": "code",
      "metadata": {
        "colab": {
          "base_uri": "https://localhost:8080/"
        },
        "id": "TsWXIUncv5Sn",
        "outputId": "69f3e5ab-40b4-44af-ef5d-2ffd21df7e2a"
      },
      "source": [
        "lst = [1, 2, 3,4, 5, 6]\n",
        "lst.pop()\n",
        "lst"
      ],
      "execution_count": 27,
      "outputs": [
        {
          "output_type": "execute_result",
          "data": {
            "text/plain": [
              "[1, 2, 3, 4, 5]"
            ]
          },
          "metadata": {
            "tags": []
          },
          "execution_count": 27
        }
      ]
    },
    {
      "cell_type": "code",
      "metadata": {
        "colab": {
          "base_uri": "https://localhost:8080/"
        },
        "id": "T7APqyA0wX4o",
        "outputId": "ae7fb10f-0efa-4080-99d9-df19b27ee833"
      },
      "source": [
        "lst.pop(0)"
      ],
      "execution_count": 28,
      "outputs": [
        {
          "output_type": "execute_result",
          "data": {
            "text/plain": [
              "1"
            ]
          },
          "metadata": {
            "tags": []
          },
          "execution_count": 28
        }
      ]
    },
    {
      "cell_type": "code",
      "metadata": {
        "colab": {
          "base_uri": "https://localhost:8080/"
        },
        "id": "RaOOHmYSwb1i",
        "outputId": "78876719-1671-4d3e-b065-72e0fd8181b7"
      },
      "source": [
        "lst"
      ],
      "execution_count": 29,
      "outputs": [
        {
          "output_type": "execute_result",
          "data": {
            "text/plain": [
              "[2, 3, 4, 5]"
            ]
          },
          "metadata": {
            "tags": []
          },
          "execution_count": 29
        }
      ]
    },
    {
      "cell_type": "markdown",
      "metadata": {
        "id": "Haj40bHtw4x1"
      },
      "source": [
        "# **Count() - counts total occurences of goven element in a list**"
      ]
    },
    {
      "cell_type": "code",
      "metadata": {
        "colab": {
          "base_uri": "https://localhost:8080/"
        },
        "id": "alrYiC5ew4au",
        "outputId": "22639b1b-708d-44d1-cda6-1a2cc6e5f1a8"
      },
      "source": [
        "lst = [1, 2, 2, 3,1, 5, 6]\n",
        "lst.count(1)"
      ],
      "execution_count": 31,
      "outputs": [
        {
          "output_type": "execute_result",
          "data": {
            "text/plain": [
              "2"
            ]
          },
          "metadata": {
            "tags": []
          },
          "execution_count": 31
        }
      ]
    },
    {
      "cell_type": "markdown",
      "metadata": {
        "id": "OquEyitmxrrw"
      },
      "source": [
        "# index(): Returns the index of first occurrence. Start and End index are not necessary parameters"
      ]
    },
    {
      "cell_type": "code",
      "metadata": {
        "colab": {
          "base_uri": "https://localhost:8080/"
        },
        "id": "fwOUoZHYxtvs",
        "outputId": "2e5a3b0b-9b65-4326-ff06-012a517340da"
      },
      "source": [
        "lst.index(1,3,6)            #index(element to search, index specifying from where to sart search, stop index )"
      ],
      "execution_count": 32,
      "outputs": [
        {
          "output_type": "execute_result",
          "data": {
            "text/plain": [
              "4"
            ]
          },
          "metadata": {
            "tags": []
          },
          "execution_count": 32
        }
      ]
    },
    {
      "cell_type": "markdown",
      "metadata": {
        "id": "zYk_VSAlylSs"
      },
      "source": [
        "# Min and Max"
      ]
    },
    {
      "cell_type": "code",
      "metadata": {
        "colab": {
          "base_uri": "https://localhost:8080/"
        },
        "id": "LTMwURCGyk_y",
        "outputId": "45e8cae1-efff-427f-aad1-23c1cc143966"
      },
      "source": [
        "min(lst)"
      ],
      "execution_count": 33,
      "outputs": [
        {
          "output_type": "execute_result",
          "data": {
            "text/plain": [
              "1"
            ]
          },
          "metadata": {
            "tags": []
          },
          "execution_count": 33
        }
      ]
    },
    {
      "cell_type": "code",
      "metadata": {
        "colab": {
          "base_uri": "https://localhost:8080/"
        },
        "id": "dx8UxpwYysqT",
        "outputId": "92a1e70c-a706-47e0-e4d6-a8625e2f16e7"
      },
      "source": [
        "max(lst)"
      ],
      "execution_count": 34,
      "outputs": [
        {
          "output_type": "execute_result",
          "data": {
            "text/plain": [
              "6"
            ]
          },
          "metadata": {
            "tags": []
          },
          "execution_count": 34
        }
      ]
    }
  ]
}