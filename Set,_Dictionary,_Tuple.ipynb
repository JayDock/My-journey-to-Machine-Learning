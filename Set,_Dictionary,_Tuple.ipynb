{
  "nbformat": 4,
  "nbformat_minor": 0,
  "metadata": {
    "colab": {
      "name": "Set, Dictionary, Tuple.ipynb",
      "provenance": [],
      "authorship_tag": "ABX9TyOyw6AgH4yIP5Ipcq34zg9y",
      "include_colab_link": true
    },
    "kernelspec": {
      "name": "python3",
      "display_name": "Python 3"
    },
    "language_info": {
      "name": "python"
    }
  },
  "cells": [
    {
      "cell_type": "markdown",
      "metadata": {
        "id": "view-in-github",
        "colab_type": "text"
      },
      "source": [
        "<a href=\"https://colab.research.google.com/github/JayDock/My-journey-to-Machine-Learning/blob/main/Set%2C_Dictionary%2C_Tuple.ipynb\" target=\"_parent\"><img src=\"https://colab.research.google.com/assets/colab-badge.svg\" alt=\"Open In Colab\"/></a>"
      ]
    },
    {
      "cell_type": "markdown",
      "metadata": {
        "id": "0imw9th54Q-x"
      },
      "source": [
        "# **Set**\n",
        "\n",
        "\n",
        "Set is an unordered collection of elements. They are mutable, iterable and has **no duplicate elements**. Sets are represented in {}. This is based on a data structure known as hash table..There is no indexing in sets"
      ]
    },
    {
      "cell_type": "code",
      "metadata": {
        "colab": {
          "base_uri": "https://localhost:8080/"
        },
        "id": "fLi7QCi03xGa",
        "outputId": "715c796c-65a9-4f0d-c302-a100b5c466c4"
      },
      "source": [
        "set_var = set()\n",
        "print(set_var)\n",
        "print(type(set_var))"
      ],
      "execution_count": 2,
      "outputs": [
        {
          "output_type": "stream",
          "text": [
            "set()\n",
            "<class 'set'>\n"
          ],
          "name": "stdout"
        }
      ]
    },
    {
      "cell_type": "code",
      "metadata": {
        "colab": {
          "base_uri": "https://localhost:8080/"
        },
        "id": "hcvsciog5e4q",
        "outputId": "5a22ae2a-5b2b-4e31-df06-c10dcd34da7d"
      },
      "source": [
        "set_var = {1,2,3,4,2}\n",
        "set_var"
      ],
      "execution_count": 3,
      "outputs": [
        {
          "output_type": "execute_result",
          "data": {
            "text/plain": [
              "{1, 2, 3, 4}"
            ]
          },
          "metadata": {
            "tags": []
          },
          "execution_count": 3
        }
      ]
    },
    {
      "cell_type": "code",
      "metadata": {
        "colab": {
          "base_uri": "https://localhost:8080/"
        },
        "id": "FnP44xnW54yW",
        "outputId": "22ca9d20-e5bf-4398-8ced-06e183fc43d8"
      },
      "source": [
        "set_var = {'colors', 'food', 'journey'}\n",
        "print(set_var)\n",
        "print(type(set_var))"
      ],
      "execution_count": 5,
      "outputs": [
        {
          "output_type": "stream",
          "text": [
            "{'food', 'colors', 'journey'}\n",
            "<class 'set'>\n"
          ],
          "name": "stdout"
        }
      ]
    },
    {
      "cell_type": "code",
      "metadata": {
        "colab": {
          "base_uri": "https://localhost:8080/"
        },
        "id": "P2WuCd7b6Mg9",
        "outputId": "2cd750d7-af11-41ec-acc0-a4e7357554ca"
      },
      "source": [
        "set_var={\"Avengers\",\"IronMan\",'Hitman'}\n",
        "print(set_var)\n",
        "type(set_var)"
      ],
      "execution_count": 6,
      "outputs": [
        {
          "output_type": "stream",
          "text": [
            "{'Avengers', 'Hitman', 'IronMan'}\n"
          ],
          "name": "stdout"
        },
        {
          "output_type": "execute_result",
          "data": {
            "text/plain": [
              "set"
            ]
          },
          "metadata": {
            "tags": []
          },
          "execution_count": 6
        }
      ]
    },
    {
      "cell_type": "markdown",
      "metadata": {
        "id": "_1aY6-cZ6xAX"
      },
      "source": [
        "# **In-built functions in Set**"
      ]
    },
    {
      "cell_type": "code",
      "metadata": {
        "colab": {
          "base_uri": "https://localhost:8080/"
        },
        "id": "xSnXQr9K63Yq",
        "outputId": "8e195d4e-a115-4cd9-9e55-c8958a8f5d6e"
      },
      "source": [
        "set_var.add('Hulk')\n",
        "set_var"
      ],
      "execution_count": 8,
      "outputs": [
        {
          "output_type": "execute_result",
          "data": {
            "text/plain": [
              "{'Avengers', 'Hitman', 'Hulk', 'IronMan'}"
            ]
          },
          "metadata": {
            "tags": []
          },
          "execution_count": 8
        }
      ]
    },
    {
      "cell_type": "code",
      "metadata": {
        "id": "wROnT_ck69Kb"
      },
      "source": [
        "set1={\"Avengers\",\"IronMan\",'Hitman'}\n",
        "set2={\"Avengers\",\"IronMan\",'Hitman','Hulk2'}"
      ],
      "execution_count": 14,
      "outputs": []
    },
    {
      "cell_type": "code",
      "metadata": {
        "colab": {
          "base_uri": "https://localhost:8080/"
        },
        "id": "6z4ZLOEI8MoX",
        "outputId": "3bec4958-eb76-4baa-b251-5aa3cd9d4d90"
      },
      "source": [
        "set2.intersection(set1)"
      ],
      "execution_count": 15,
      "outputs": [
        {
          "output_type": "execute_result",
          "data": {
            "text/plain": [
              "{'Avengers', 'Hitman', 'IronMan'}"
            ]
          },
          "metadata": {
            "tags": []
          },
          "execution_count": 15
        }
      ]
    },
    {
      "cell_type": "code",
      "metadata": {
        "colab": {
          "base_uri": "https://localhost:8080/"
        },
        "id": "2NXuCRcM8yb6",
        "outputId": "7d6ce407-6410-409a-8bd0-af5c346a434b"
      },
      "source": [
        "set2.intersection_update(set1)\n",
        "set2"
      ],
      "execution_count": 18,
      "outputs": [
        {
          "output_type": "execute_result",
          "data": {
            "text/plain": [
              "{'Avengers', 'Hitman', 'IronMan'}"
            ]
          },
          "metadata": {
            "tags": []
          },
          "execution_count": 18
        }
      ]
    },
    {
      "cell_type": "code",
      "metadata": {
        "colab": {
          "base_uri": "https://localhost:8080/"
        },
        "id": "VsL-I6w38ZXu",
        "outputId": "f8f50aea-c828-4a2b-8a5a-c1edde58de05"
      },
      "source": [
        "set2.union(set1)"
      ],
      "execution_count": 17,
      "outputs": [
        {
          "output_type": "execute_result",
          "data": {
            "text/plain": [
              "{'Avengers', 'Hitman', 'Hulk2', 'IronMan'}"
            ]
          },
          "metadata": {
            "tags": []
          },
          "execution_count": 17
        }
      ]
    },
    {
      "cell_type": "code",
      "metadata": {
        "colab": {
          "base_uri": "https://localhost:8080/"
        },
        "id": "z7riWkFh8OCU",
        "outputId": "88ae60f1-a79c-47ca-ba1d-4b3217099ada"
      },
      "source": [
        "set2.difference(set1)"
      ],
      "execution_count": 13,
      "outputs": [
        {
          "output_type": "execute_result",
          "data": {
            "text/plain": [
              "{'Hulk2'}"
            ]
          },
          "metadata": {
            "tags": []
          },
          "execution_count": 13
        }
      ]
    },
    {
      "cell_type": "code",
      "metadata": {
        "colab": {
          "base_uri": "https://localhost:8080/"
        },
        "id": "b7NetMnj7q2i",
        "outputId": "b380412c-a578-4ac8-f1e3-5d2d111680c3"
      },
      "source": [
        "set2"
      ],
      "execution_count": 10,
      "outputs": [
        {
          "output_type": "execute_result",
          "data": {
            "text/plain": [
              "{'Avengers', 'Hitman', 'Hulk2', 'IronMan'}"
            ]
          },
          "metadata": {
            "tags": []
          },
          "execution_count": 10
        }
      ]
    },
    {
      "cell_type": "code",
      "metadata": {
        "colab": {
          "base_uri": "https://localhost:8080/"
        },
        "id": "tSsAbr2B7qmm",
        "outputId": "bd5c7464-ea95-4392-cf02-f59d1cdd1478"
      },
      "source": [
        "set2.difference_update(set1)\n",
        "set2"
      ],
      "execution_count": 12,
      "outputs": [
        {
          "output_type": "execute_result",
          "data": {
            "text/plain": [
              "{'Hulk2'}"
            ]
          },
          "metadata": {
            "tags": []
          },
          "execution_count": 12
        }
      ]
    },
    {
      "cell_type": "markdown",
      "metadata": {
        "id": "1iboamQ19sik"
      },
      "source": [
        "# **Dictionaries**\n",
        "\n",
        "Dictionaries are mutable, unorderd, iterable and indexed...The elements in dictioanries are represented as key-value pairs. Here also we use {} similar to sets but the elements are represented as key:value pairs. In here, indexing is not done by using index number, it's done by key"
      ]
    },
    {
      "cell_type": "code",
      "metadata": {
        "colab": {
          "base_uri": "https://localhost:8080/"
        },
        "id": "5aKKjr2C8pVF",
        "outputId": "a1c8ac89-2fa5-4617-bcb4-221ca73eeafc"
      },
      "source": [
        "dic = {}\n",
        "type(dic)"
      ],
      "execution_count": 20,
      "outputs": [
        {
          "output_type": "execute_result",
          "data": {
            "text/plain": [
              "dict"
            ]
          },
          "metadata": {
            "tags": []
          },
          "execution_count": 20
        }
      ]
    },
    {
      "cell_type": "code",
      "metadata": {
        "colab": {
          "base_uri": "https://localhost:8080/"
        },
        "id": "t7ZqEMXu-qjT",
        "outputId": "a66d3179-fec9-4c7c-dda4-1d8cb0fe6394"
      },
      "source": [
        "st = {1, 2, 3, 4}\n",
        "type(st)"
      ],
      "execution_count": 21,
      "outputs": [
        {
          "output_type": "execute_result",
          "data": {
            "text/plain": [
              "set"
            ]
          },
          "metadata": {
            "tags": []
          },
          "execution_count": 21
        }
      ]
    },
    {
      "cell_type": "code",
      "metadata": {
        "id": "x1EutUfi-wVD"
      },
      "source": [
        "my_dict={\"Car1\": \"Audi\", \"Car2\":\"BMW\",\"Car3\":\"Mercidies Benz\"}"
      ],
      "execution_count": 22,
      "outputs": []
    },
    {
      "cell_type": "code",
      "metadata": {
        "colab": {
          "base_uri": "https://localhost:8080/"
        },
        "id": "2o4xF_FI-3Nl",
        "outputId": "2f84d7b9-26a8-4ad7-dd3c-959240d5797a"
      },
      "source": [
        "type(my_dict)"
      ],
      "execution_count": 23,
      "outputs": [
        {
          "output_type": "execute_result",
          "data": {
            "text/plain": [
              "dict"
            ]
          },
          "metadata": {
            "tags": []
          },
          "execution_count": 23
        }
      ]
    },
    {
      "cell_type": "code",
      "metadata": {
        "colab": {
          "base_uri": "https://localhost:8080/",
          "height": 36
        },
        "id": "wDwSR8xg-98z",
        "outputId": "d46e7791-c484-4929-fa58-c3be03f4ebf2"
      },
      "source": [
        "my_dict['Car1']"
      ],
      "execution_count": 25,
      "outputs": [
        {
          "output_type": "execute_result",
          "data": {
            "application/vnd.google.colaboratory.intrinsic+json": {
              "type": "string"
            },
            "text/plain": [
              "'Audi'"
            ]
          },
          "metadata": {
            "tags": []
          },
          "execution_count": 25
        }
      ]
    },
    {
      "cell_type": "code",
      "metadata": {
        "colab": {
          "base_uri": "https://localhost:8080/"
        },
        "id": "NlIHYPLS_mTq",
        "outputId": "69b0a937-e82d-4073-dd2f-5e7f9457486f"
      },
      "source": [
        "for x in my_dict:\n",
        "  print(x)"
      ],
      "execution_count": 27,
      "outputs": [
        {
          "output_type": "stream",
          "text": [
            "Car1\n",
            "Car2\n",
            "Car3\n"
          ],
          "name": "stdout"
        }
      ]
    },
    {
      "cell_type": "code",
      "metadata": {
        "colab": {
          "base_uri": "https://localhost:8080/"
        },
        "id": "a0E9wDLoAB8G",
        "outputId": "711d2287-0d24-49d5-b690-dd4055f4b06f"
      },
      "source": [
        "for x in my_dict.values():\n",
        "  print(x)"
      ],
      "execution_count": 28,
      "outputs": [
        {
          "output_type": "stream",
          "text": [
            "Audi\n",
            "BMW\n",
            "Mercidies Benz\n"
          ],
          "name": "stdout"
        }
      ]
    },
    {
      "cell_type": "code",
      "metadata": {
        "colab": {
          "base_uri": "https://localhost:8080/"
        },
        "id": "1LwSQdNbAVj_",
        "outputId": "38214772-b62c-4c0a-df52-c97eabe7f6d0"
      },
      "source": [
        "for x in my_dict.items():\n",
        "  print(x)"
      ],
      "execution_count": 29,
      "outputs": [
        {
          "output_type": "stream",
          "text": [
            "('Car1', 'Audi')\n",
            "('Car2', 'BMW')\n",
            "('Car3', 'Mercidies Benz')\n"
          ],
          "name": "stdout"
        }
      ]
    },
    {
      "cell_type": "code",
      "metadata": {
        "colab": {
          "base_uri": "https://localhost:8080/"
        },
        "id": "NsZBEDn8Aoym",
        "outputId": "689aa52b-6e26-4448-f733-f69d31a1ae72"
      },
      "source": [
        "# to add new key:vale pair\n",
        "my_dict['Car4'] = 'Maruti'\n",
        "my_dict"
      ],
      "execution_count": 30,
      "outputs": [
        {
          "output_type": "execute_result",
          "data": {
            "text/plain": [
              "{'Car1': 'Audi', 'Car2': 'BMW', 'Car3': 'Mercidies Benz', 'Car4': 'Maruti'}"
            ]
          },
          "metadata": {
            "tags": []
          },
          "execution_count": 30
        }
      ]
    },
    {
      "cell_type": "code",
      "metadata": {
        "colab": {
          "base_uri": "https://localhost:8080/"
        },
        "id": "zwWF56_BBxeS",
        "outputId": "d33c3952-20fa-4d3c-b304-1e371ed3fcab"
      },
      "source": [
        "my_dict['Car1'] = 'BMW'\n",
        "my_dict"
      ],
      "execution_count": 31,
      "outputs": [
        {
          "output_type": "execute_result",
          "data": {
            "text/plain": [
              "{'Car1': 'BMW', 'Car2': 'BMW', 'Car3': 'Mercidies Benz', 'Car4': 'Maruti'}"
            ]
          },
          "metadata": {
            "tags": []
          },
          "execution_count": 31
        }
      ]
    },
    {
      "cell_type": "markdown",
      "metadata": {
        "id": "kR1VqSL4C90a"
      },
      "source": [
        "# **Nested Dictionary**"
      ]
    },
    {
      "cell_type": "code",
      "metadata": {
        "colab": {
          "base_uri": "https://localhost:8080/"
        },
        "id": "EUU-Hg_QDCRA",
        "outputId": "3d7430a8-7c5c-484d-9dde-5bb3e4a19e9d"
      },
      "source": [
        "car_model1 = {'Maruti':2000}\n",
        "car_model2 = {'Audi':2010}\n",
        "car_model3 = {'Eon':2013}\n",
        "\n",
        "car_type = {'Car1':car_model1, 'Car2': car_model2, 'Car3': car_model3}\n",
        "car_type\n"
      ],
      "execution_count": 36,
      "outputs": [
        {
          "output_type": "execute_result",
          "data": {
            "text/plain": [
              "{'Car1': {'Maruti': 2000}, 'Car2': {'Audi': 2010}, 'Car3': {'Eon': 2013}}"
            ]
          },
          "metadata": {
            "tags": []
          },
          "execution_count": 36
        }
      ]
    },
    {
      "cell_type": "code",
      "metadata": {
        "colab": {
          "base_uri": "https://localhost:8080/"
        },
        "id": "5yal1u7XEkI5",
        "outputId": "31ce7661-083c-473c-b992-efde9c656318"
      },
      "source": [
        "print(car_type['Car1'])"
      ],
      "execution_count": 37,
      "outputs": [
        {
          "output_type": "execute_result",
          "data": {
            "text/plain": [
              "{'Maruti': 2000}"
            ]
          },
          "metadata": {
            "tags": []
          },
          "execution_count": 37
        }
      ]
    },
    {
      "cell_type": "code",
      "metadata": {
        "colab": {
          "base_uri": "https://localhost:8080/"
        },
        "id": "JAn9nJvVEtrH",
        "outputId": "bc690b5d-d764-4cd5-face-031645c016bf"
      },
      "source": [
        "print(car_type['Car1']['Maruti'])"
      ],
      "execution_count": 41,
      "outputs": [
        {
          "output_type": "stream",
          "text": [
            "2000\n"
          ],
          "name": "stdout"
        }
      ]
    },
    {
      "cell_type": "markdown",
      "metadata": {
        "id": "Gv10qr25GkWD"
      },
      "source": [
        "## **Tuples**\n",
        "\n",
        "In tuples indexing are done, we cannot change an element in a tuple...we can entirely change the whole tuple, but elementwise is not possible..\n",
        "tuple is represented as ()\n"
      ]
    },
    {
      "cell_type": "code",
      "metadata": {
        "id": "x91znMwhG34r"
      },
      "source": [
        "my_tuple = tuple()"
      ],
      "execution_count": 42,
      "outputs": []
    },
    {
      "cell_type": "code",
      "metadata": {
        "colab": {
          "base_uri": "https://localhost:8080/"
        },
        "id": "LpDTHeeaHD7I",
        "outputId": "b3a46c98-27b7-4b79-8804-a5cec300f933"
      },
      "source": [
        "type(my_tuple)"
      ],
      "execution_count": 43,
      "outputs": [
        {
          "output_type": "execute_result",
          "data": {
            "text/plain": [
              "tuple"
            ]
          },
          "metadata": {
            "tags": []
          },
          "execution_count": 43
        }
      ]
    },
    {
      "cell_type": "code",
      "metadata": {
        "colab": {
          "base_uri": "https://localhost:8080/"
        },
        "id": "FO7eImFRHJPO",
        "outputId": "a7f57f79-8e91-4a07-bc0e-8e26720adc3c"
      },
      "source": [
        "my_tuple = ()\n",
        "type(my_tuple)"
      ],
      "execution_count": 44,
      "outputs": [
        {
          "output_type": "execute_result",
          "data": {
            "text/plain": [
              "tuple"
            ]
          },
          "metadata": {
            "tags": []
          },
          "execution_count": 44
        }
      ]
    },
    {
      "cell_type": "code",
      "metadata": {
        "colab": {
          "base_uri": "https://localhost:8080/",
          "height": 36
        },
        "id": "sp_BWQicHP_1",
        "outputId": "e13960b0-dacf-4e5c-9e4e-74dcd0fcd77f"
      },
      "source": [
        "my_tuple = ('Jaya', 'Lakshmi','Krishnan')\n",
        "my_tuple[0]"
      ],
      "execution_count": 45,
      "outputs": [
        {
          "output_type": "execute_result",
          "data": {
            "application/vnd.google.colaboratory.intrinsic+json": {
              "type": "string"
            },
            "text/plain": [
              "'Jaya'"
            ]
          },
          "metadata": {
            "tags": []
          },
          "execution_count": 45
        }
      ]
    },
    {
      "cell_type": "code",
      "metadata": {
        "colab": {
          "base_uri": "https://localhost:8080/",
          "height": 171
        },
        "id": "k3PsQ-NgHjjl",
        "outputId": "5dbc6bbc-db23-473c-f60c-571accda092a"
      },
      "source": [
        "my_tuple[0] = 'Kavi'"
      ],
      "execution_count": 46,
      "outputs": [
        {
          "output_type": "error",
          "ename": "TypeError",
          "evalue": "ignored",
          "traceback": [
            "\u001b[0;31m---------------------------------------------------------------------------\u001b[0m",
            "\u001b[0;31mTypeError\u001b[0m                                 Traceback (most recent call last)",
            "\u001b[0;32m<ipython-input-46-f0e9945125aa>\u001b[0m in \u001b[0;36m<module>\u001b[0;34m()\u001b[0m\n\u001b[0;32m----> 1\u001b[0;31m \u001b[0mmy_tuple\u001b[0m\u001b[0;34m[\u001b[0m\u001b[0;36m0\u001b[0m\u001b[0;34m]\u001b[0m \u001b[0;34m=\u001b[0m \u001b[0;34m'Kavi'\u001b[0m\u001b[0;34m\u001b[0m\u001b[0;34m\u001b[0m\u001b[0m\n\u001b[0m",
            "\u001b[0;31mTypeError\u001b[0m: 'tuple' object does not support item assignment"
          ]
        }
      ]
    },
    {
      "cell_type": "code",
      "metadata": {
        "colab": {
          "base_uri": "https://localhost:8080/"
        },
        "id": "KRZiEgkbHrH-",
        "outputId": "ba7c6714-a65b-453d-fa78-4d3f35f60e28"
      },
      "source": [
        "my_tuple = ('hai', 'hello')\n",
        "my_tuple"
      ],
      "execution_count": 47,
      "outputs": [
        {
          "output_type": "execute_result",
          "data": {
            "text/plain": [
              "('hai', 'hello')"
            ]
          },
          "metadata": {
            "tags": []
          },
          "execution_count": 47
        }
      ]
    },
    {
      "cell_type": "code",
      "metadata": {
        "colab": {
          "base_uri": "https://localhost:8080/"
        },
        "id": "KR3A-mCAIBZu",
        "outputId": "d43d2271-3616-45ae-dc7f-1aaf983afb14"
      },
      "source": [
        "#inbuilt function\n",
        "\n",
        "my_tuple = ('Jaya', 'Lakshmi','Krishnan', 'Jaya')\n",
        "my_tuple.count('Jaya')"
      ],
      "execution_count": 50,
      "outputs": [
        {
          "output_type": "execute_result",
          "data": {
            "text/plain": [
              "2"
            ]
          },
          "metadata": {
            "tags": []
          },
          "execution_count": 50
        }
      ]
    },
    {
      "cell_type": "code",
      "metadata": {
        "colab": {
          "base_uri": "https://localhost:8080/"
        },
        "id": "u0qjWks6KRHC",
        "outputId": "4a2f1d16-e4cd-485d-97b6-7de983c19696"
      },
      "source": [
        "my_tuple.index('Lakshmi')"
      ],
      "execution_count": 51,
      "outputs": [
        {
          "output_type": "execute_result",
          "data": {
            "text/plain": [
              "1"
            ]
          },
          "metadata": {
            "tags": []
          },
          "execution_count": 51
        }
      ]
    },
    {
      "cell_type": "code",
      "metadata": {
        "colab": {
          "base_uri": "https://localhost:8080/"
        },
        "id": "XooVepPxKZIS",
        "outputId": "e979db72-85fd-4d81-f046-3097459744ce"
      },
      "source": [
        "my_tuple.index('Jaya')"
      ],
      "execution_count": 52,
      "outputs": [
        {
          "output_type": "execute_result",
          "data": {
            "text/plain": [
              "0"
            ]
          },
          "metadata": {
            "tags": []
          },
          "execution_count": 52
        }
      ]
    }
  ]
}