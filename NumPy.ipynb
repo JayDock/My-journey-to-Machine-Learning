{
  "nbformat": 4,
  "nbformat_minor": 0,
  "metadata": {
    "colab": {
      "name": "NumPy.ipynb",
      "provenance": [],
      "authorship_tag": "ABX9TyOzbJkT9IgOzi0/9MwhFTyi",
      "include_colab_link": true
    },
    "kernelspec": {
      "name": "python3",
      "display_name": "Python 3"
    },
    "language_info": {
      "name": "python"
    }
  },
  "cells": [
    {
      "cell_type": "markdown",
      "metadata": {
        "id": "view-in-github",
        "colab_type": "text"
      },
      "source": [
        "<a href=\"https://colab.research.google.com/github/JayDock/My-journey-to-Machine-Learning/blob/main/NumPy.ipynb\" target=\"_parent\"><img src=\"https://colab.research.google.com/assets/colab-badge.svg\" alt=\"Open In Colab\"/></a>"
      ]
    },
    {
      "cell_type": "markdown",
      "metadata": {
        "id": "GJaYvWBwiAwe"
      },
      "source": [
        "NumPy is a general purpose array processing laguage.."
      ]
    },
    {
      "cell_type": "code",
      "metadata": {
        "id": "n8ccD69UcQRW"
      },
      "source": [
        "import numpy as np"
      ],
      "execution_count": 1,
      "outputs": []
    },
    {
      "cell_type": "code",
      "metadata": {
        "id": "m7amIla4hQcm"
      },
      "source": [
        "my_list = [1, 2, 3, 4]\n",
        "arr = np.array(my_list)"
      ],
      "execution_count": 3,
      "outputs": []
    },
    {
      "cell_type": "code",
      "metadata": {
        "colab": {
          "base_uri": "https://localhost:8080/"
        },
        "id": "fNNiSfbwhnjX",
        "outputId": "4ade766a-2481-4ca7-f1d8-5115a417807a"
      },
      "source": [
        "type(arr)"
      ],
      "execution_count": 4,
      "outputs": [
        {
          "output_type": "execute_result",
          "data": {
            "text/plain": [
              "numpy.ndarray"
            ]
          },
          "metadata": {
            "tags": []
          },
          "execution_count": 4
        }
      ]
    },
    {
      "cell_type": "code",
      "metadata": {
        "colab": {
          "base_uri": "https://localhost:8080/"
        },
        "id": "ZWw6mu66hqm2",
        "outputId": "7560f229-c7f6-40d0-b1a2-32740b22d67b"
      },
      "source": [
        "print(arr)"
      ],
      "execution_count": 6,
      "outputs": [
        {
          "output_type": "stream",
          "text": [
            "[1 2 3 4]\n"
          ],
          "name": "stdout"
        }
      ]
    },
    {
      "cell_type": "code",
      "metadata": {
        "colab": {
          "base_uri": "https://localhost:8080/"
        },
        "id": "LSZKfNMGiHdu",
        "outputId": "64a1db7e-2357-4e15-a387-0dbeb42f4090"
      },
      "source": [
        "arr.shape"
      ],
      "execution_count": 7,
      "outputs": [
        {
          "output_type": "execute_result",
          "data": {
            "text/plain": [
              "(4,)"
            ]
          },
          "metadata": {
            "tags": []
          },
          "execution_count": 7
        }
      ]
    },
    {
      "cell_type": "code",
      "metadata": {
        "colab": {
          "base_uri": "https://localhost:8080/"
        },
        "id": "549lrnMziPDu",
        "outputId": "5eb1d730-e364-42ca-e13c-ca1accc41409"
      },
      "source": [
        "#Multidimensional array\n",
        "\n",
        "my_list1 = [1,2,3,4,5]\n",
        "my_list2 = [2, 4, 5,1, 7]\n",
        "my_list3 = [4,6,1,9,5]\n",
        "\n",
        "arr = np.array([my_list1, my_list2, my_list3])\n",
        "arr"
      ],
      "execution_count": 15,
      "outputs": [
        {
          "output_type": "execute_result",
          "data": {
            "text/plain": [
              "array([[1, 2, 3, 4, 5],\n",
              "       [2, 4, 5, 1, 7],\n",
              "       [4, 6, 1, 9, 5]])"
            ]
          },
          "metadata": {
            "tags": []
          },
          "execution_count": 15
        }
      ]
    },
    {
      "cell_type": "code",
      "metadata": {
        "colab": {
          "base_uri": "https://localhost:8080/"
        },
        "id": "6Y4A-fSMjABu",
        "outputId": "36cd4cb4-e6d6-484d-aa36-9d1debaa30a6"
      },
      "source": [
        "arr.shape"
      ],
      "execution_count": 12,
      "outputs": [
        {
          "output_type": "execute_result",
          "data": {
            "text/plain": [
              "(3, 5)"
            ]
          },
          "metadata": {
            "tags": []
          },
          "execution_count": 12
        }
      ]
    },
    {
      "cell_type": "code",
      "metadata": {
        "colab": {
          "base_uri": "https://localhost:8080/"
        },
        "id": "qGl5hXszjEkp",
        "outputId": "746f173c-08d3-4593-c37c-2001265ab468"
      },
      "source": [
        "arr.reshape(5,3)"
      ],
      "execution_count": 13,
      "outputs": [
        {
          "output_type": "execute_result",
          "data": {
            "text/plain": [
              "array([[1, 2, 3],\n",
              "       [4, 5, 2],\n",
              "       [4, 5, 1],\n",
              "       [7, 4, 6],\n",
              "       [1, 9, 5]])"
            ]
          },
          "metadata": {
            "tags": []
          },
          "execution_count": 13
        }
      ]
    },
    {
      "cell_type": "markdown",
      "metadata": {
        "id": "Oai8LRTxmyi0"
      },
      "source": [
        "# **Indexing**"
      ]
    },
    {
      "cell_type": "code",
      "metadata": {
        "colab": {
          "base_uri": "https://localhost:8080/"
        },
        "id": "yJd7LJn_m22I",
        "outputId": "04d8b721-973e-4296-c5f0-0831f96e088b"
      },
      "source": [
        "my_list = [1, 2, 3, 4, 5, 6, 7]\n",
        "arr = np.array(my_list)\n",
        "arr[4]"
      ],
      "execution_count": 14,
      "outputs": [
        {
          "output_type": "execute_result",
          "data": {
            "text/plain": [
              "5"
            ]
          },
          "metadata": {
            "tags": []
          },
          "execution_count": 14
        }
      ]
    },
    {
      "cell_type": "code",
      "metadata": {
        "colab": {
          "base_uri": "https://localhost:8080/"
        },
        "id": "f5AQdmofoo0Y",
        "outputId": "55162d38-c1a6-444e-9413-11b020af5de1"
      },
      "source": [
        "print(arr)"
      ],
      "execution_count": 17,
      "outputs": [
        {
          "output_type": "stream",
          "text": [
            "[[1 2 3 4 5]\n",
            " [2 4 5 1 7]\n",
            " [4 6 1 9 5]]\n"
          ],
          "name": "stdout"
        }
      ]
    },
    {
      "cell_type": "code",
      "metadata": {
        "colab": {
          "base_uri": "https://localhost:8080/"
        },
        "id": "QIdwEyC-oznO",
        "outputId": "4610f31d-7a15-4649-8cb4-d1c3b915f0e1"
      },
      "source": [
        "arr[:,:]"
      ],
      "execution_count": 18,
      "outputs": [
        {
          "output_type": "execute_result",
          "data": {
            "text/plain": [
              "array([[1, 2, 3, 4, 5],\n",
              "       [2, 4, 5, 1, 7],\n",
              "       [4, 6, 1, 9, 5]])"
            ]
          },
          "metadata": {
            "tags": []
          },
          "execution_count": 18
        }
      ]
    },
    {
      "cell_type": "code",
      "metadata": {
        "colab": {
          "base_uri": "https://localhost:8080/"
        },
        "id": "VLxXEt1pozkT",
        "outputId": "bbb531a6-7bf9-4a33-f90f-e429f1132af3"
      },
      "source": [
        "arr[1:,0:2]"
      ],
      "execution_count": 19,
      "outputs": [
        {
          "output_type": "execute_result",
          "data": {
            "text/plain": [
              "array([[2, 4],\n",
              "       [4, 6]])"
            ]
          },
          "metadata": {
            "tags": []
          },
          "execution_count": 19
        }
      ]
    },
    {
      "cell_type": "code",
      "metadata": {
        "colab": {
          "base_uri": "https://localhost:8080/"
        },
        "id": "-gHepmOTpkbP",
        "outputId": "8315e2d0-f4fc-4fa7-b1eb-44136e46e8df"
      },
      "source": [
        "arr[:,3:]"
      ],
      "execution_count": 20,
      "outputs": [
        {
          "output_type": "execute_result",
          "data": {
            "text/plain": [
              "array([[4, 5],\n",
              "       [1, 7],\n",
              "       [9, 5]])"
            ]
          },
          "metadata": {
            "tags": []
          },
          "execution_count": 20
        }
      ]
    },
    {
      "cell_type": "code",
      "metadata": {
        "colab": {
          "base_uri": "https://localhost:8080/"
        },
        "id": "6Jmjlsk1pwqr",
        "outputId": "a4bcf095-6b1f-4b0b-a5a1-82b41ff6e1b1"
      },
      "source": [
        "print(arr)"
      ],
      "execution_count": 21,
      "outputs": [
        {
          "output_type": "stream",
          "text": [
            "[[1 2 3 4 5]\n",
            " [2 4 5 1 7]\n",
            " [4 6 1 9 5]]\n"
          ],
          "name": "stdout"
        }
      ]
    },
    {
      "cell_type": "code",
      "metadata": {
        "colab": {
          "base_uri": "https://localhost:8080/"
        },
        "id": "ED3YoRn9qBHw",
        "outputId": "965e9fbe-ad9e-47e3-e4a2-dc7d1b1dcb52"
      },
      "source": [
        "arr[1:,2:4]"
      ],
      "execution_count": 22,
      "outputs": [
        {
          "output_type": "execute_result",
          "data": {
            "text/plain": [
              "array([[5, 1],\n",
              "       [1, 9]])"
            ]
          },
          "metadata": {
            "tags": []
          },
          "execution_count": 22
        }
      ]
    },
    {
      "cell_type": "code",
      "metadata": {
        "colab": {
          "base_uri": "https://localhost:8080/"
        },
        "id": "H8IPe5htqLuW",
        "outputId": "97f5b783-ef9d-434e-8ae2-624c7dba782e"
      },
      "source": [
        "arr[1:,0:2]"
      ],
      "execution_count": 23,
      "outputs": [
        {
          "output_type": "execute_result",
          "data": {
            "text/plain": [
              "array([[2, 4],\n",
              "       [4, 6]])"
            ]
          },
          "metadata": {
            "tags": []
          },
          "execution_count": 23
        }
      ]
    },
    {
      "cell_type": "markdown",
      "metadata": {
        "id": "038wsEI3sScP"
      },
      "source": [
        "#in-built functions in numpy\n",
        "\n",
        "# **arrange()**"
      ]
    },
    {
      "cell_type": "code",
      "metadata": {
        "colab": {
          "base_uri": "https://localhost:8080/"
        },
        "id": "fUO-73NSrah-",
        "outputId": "f2d923a9-b2fd-41fb-e2ea-b28d585a8bf6"
      },
      "source": [
        "arr = np.arange(0,10)\n",
        "arr"
      ],
      "execution_count": 26,
      "outputs": [
        {
          "output_type": "execute_result",
          "data": {
            "text/plain": [
              "array([0, 1, 2, 3, 4, 5, 6, 7, 8, 9])"
            ]
          },
          "metadata": {
            "tags": []
          },
          "execution_count": 26
        }
      ]
    },
    {
      "cell_type": "code",
      "metadata": {
        "colab": {
          "base_uri": "https://localhost:8080/"
        },
        "id": "hevSCxM9svy3",
        "outputId": "137f82ce-7f8c-4f58-d45f-bf99efbf2165"
      },
      "source": [
        "arr = np.arange(0,10,step = 2)\n",
        "arr"
      ],
      "execution_count": 27,
      "outputs": [
        {
          "output_type": "execute_result",
          "data": {
            "text/plain": [
              "array([0, 2, 4, 6, 8])"
            ]
          },
          "metadata": {
            "tags": []
          },
          "execution_count": 27
        }
      ]
    },
    {
      "cell_type": "code",
      "metadata": {
        "colab": {
          "base_uri": "https://localhost:8080/"
        },
        "id": "wxtk6Czjs27I",
        "outputId": "c1fa5f21-ca32-4192-9178-c12b671fe3e3"
      },
      "source": [
        "arr = np.linspace(1, 10,50)\n",
        "arr"
      ],
      "execution_count": 30,
      "outputs": [
        {
          "output_type": "execute_result",
          "data": {
            "text/plain": [
              "array([ 1.        ,  1.18367347,  1.36734694,  1.55102041,  1.73469388,\n",
              "        1.91836735,  2.10204082,  2.28571429,  2.46938776,  2.65306122,\n",
              "        2.83673469,  3.02040816,  3.20408163,  3.3877551 ,  3.57142857,\n",
              "        3.75510204,  3.93877551,  4.12244898,  4.30612245,  4.48979592,\n",
              "        4.67346939,  4.85714286,  5.04081633,  5.2244898 ,  5.40816327,\n",
              "        5.59183673,  5.7755102 ,  5.95918367,  6.14285714,  6.32653061,\n",
              "        6.51020408,  6.69387755,  6.87755102,  7.06122449,  7.24489796,\n",
              "        7.42857143,  7.6122449 ,  7.79591837,  7.97959184,  8.16326531,\n",
              "        8.34693878,  8.53061224,  8.71428571,  8.89795918,  9.08163265,\n",
              "        9.26530612,  9.44897959,  9.63265306,  9.81632653, 10.        ])"
            ]
          },
          "metadata": {
            "tags": []
          },
          "execution_count": 30
        }
      ]
    },
    {
      "cell_type": "markdown",
      "metadata": {
        "id": "_6XM2Sn-xZKT"
      },
      "source": [
        "# **copy()function and broadcating**"
      ]
    },
    {
      "cell_type": "code",
      "metadata": {
        "colab": {
          "base_uri": "https://localhost:8080/"
        },
        "id": "kuAdPYsBtNMx",
        "outputId": "9375d2a3-cc70-4570-f4ce-d2f68df2b68f"
      },
      "source": [
        "arr = [1, 2, 3, 4,5,6,7,8,9]\n",
        "arr = np.array(arr)\n",
        "arr[3:] =100\n",
        "arr"
      ],
      "execution_count": 33,
      "outputs": [
        {
          "output_type": "execute_result",
          "data": {
            "text/plain": [
              "array([  1,   2,   3, 100, 100, 100, 100, 100, 100])"
            ]
          },
          "metadata": {
            "tags": []
          },
          "execution_count": 33
        }
      ]
    },
    {
      "cell_type": "code",
      "metadata": {
        "colab": {
          "base_uri": "https://localhost:8080/"
        },
        "id": "GfpjUaxJx4GD",
        "outputId": "0f6b95bd-17e7-4d6c-d048-d3c6ee90ddb4"
      },
      "source": [
        "arr1 = arr\n",
        "arr1[3:] = 500\n",
        "arr1"
      ],
      "execution_count": 34,
      "outputs": [
        {
          "output_type": "execute_result",
          "data": {
            "text/plain": [
              "array([  1,   2,   3, 500, 500, 500, 500, 500, 500])"
            ]
          },
          "metadata": {
            "tags": []
          },
          "execution_count": 34
        }
      ]
    },
    {
      "cell_type": "code",
      "metadata": {
        "colab": {
          "base_uri": "https://localhost:8080/"
        },
        "id": "zXUoPptvyG0h",
        "outputId": "0350c54f-1086-4698-f682-f5cdff85b76d"
      },
      "source": [
        "arr"
      ],
      "execution_count": 35,
      "outputs": [
        {
          "output_type": "execute_result",
          "data": {
            "text/plain": [
              "array([  1,   2,   3, 500, 500, 500, 500, 500, 500])"
            ]
          },
          "metadata": {
            "tags": []
          },
          "execution_count": 35
        }
      ]
    },
    {
      "cell_type": "markdown",
      "metadata": {
        "id": "MwyDSPsLyeuK"
      },
      "source": [
        "Here in above snippet codes, any chane in one array affects the other array,........so we can prevent this by using copy() as shon below"
      ]
    },
    {
      "cell_type": "code",
      "metadata": {
        "id": "mY3zf749yKV2"
      },
      "source": [
        "arr1 = arr.copy()"
      ],
      "execution_count": 36,
      "outputs": []
    },
    {
      "cell_type": "code",
      "metadata": {
        "colab": {
          "base_uri": "https://localhost:8080/"
        },
        "id": "ihZzphJhy7hs",
        "outputId": "5d7842e6-3aa9-4ead-c3e5-a867ced9a8f3"
      },
      "source": [
        "print(arr)\n",
        "arr1[3:] = 1000\n",
        "print(arr1)"
      ],
      "execution_count": 37,
      "outputs": [
        {
          "output_type": "stream",
          "text": [
            "[  1   2   3 500 500 500 500 500 500]\n",
            "[   1    2    3 1000 1000 1000 1000 1000 1000]\n"
          ],
          "name": "stdout"
        }
      ]
    },
    {
      "cell_type": "markdown",
      "metadata": {
        "id": "4SC9F8DkzhoO"
      },
      "source": [
        "# **some conditions very useful in Exploratory Data Analysis**"
      ]
    },
    {
      "cell_type": "code",
      "metadata": {
        "colab": {
          "base_uri": "https://localhost:8080/"
        },
        "id": "_iQZ1iakztw9",
        "outputId": "71f6a69e-3732-4d7a-9d59-bdee674de8cd"
      },
      "source": [
        "val = 2\n",
        "arr<2\n",
        "arr[arr<200]"
      ],
      "execution_count": 39,
      "outputs": [
        {
          "output_type": "execute_result",
          "data": {
            "text/plain": [
              "array([1, 2, 3])"
            ]
          },
          "metadata": {
            "tags": []
          },
          "execution_count": 39
        }
      ]
    },
    {
      "cell_type": "markdown",
      "metadata": {
        "id": "u_p8Tbkf4cgb"
      },
      "source": [
        "Create arrays and reshape"
      ]
    },
    {
      "cell_type": "code",
      "metadata": {
        "colab": {
          "base_uri": "https://localhost:8080/"
        },
        "id": "7RhoLsjE35ub",
        "outputId": "87539f28-cf7e-44ce-a749-3406c50dab3a"
      },
      "source": [
        "np.arange(0,10).reshape(5,2)"
      ],
      "execution_count": 40,
      "outputs": [
        {
          "output_type": "execute_result",
          "data": {
            "text/plain": [
              "array([[0, 1],\n",
              "       [2, 3],\n",
              "       [4, 5],\n",
              "       [6, 7],\n",
              "       [8, 9]])"
            ]
          },
          "metadata": {
            "tags": []
          },
          "execution_count": 40
        }
      ]
    },
    {
      "cell_type": "code",
      "metadata": {
        "colab": {
          "base_uri": "https://localhost:8080/"
        },
        "id": "bRWssvjU4rnK",
        "outputId": "a96c3e2b-0dbf-452d-a056-724a2d487b51"
      },
      "source": [
        "arr1 = np.arange(0,10).reshape(2,5)\n",
        "arr2 = np.arange(0,10).reshape(2,5)\n",
        "arr1*arr2"
      ],
      "execution_count": 42,
      "outputs": [
        {
          "output_type": "execute_result",
          "data": {
            "text/plain": [
              "array([[ 0,  1,  4,  9, 16],\n",
              "       [25, 36, 49, 64, 81]])"
            ]
          },
          "metadata": {
            "tags": []
          },
          "execution_count": 42
        }
      ]
    },
    {
      "cell_type": "code",
      "metadata": {
        "colab": {
          "base_uri": "https://localhost:8080/"
        },
        "id": "eKhebGO95Oz3",
        "outputId": "8851e55f-5007-4e8b-bcd8-8bd3e031babe"
      },
      "source": [
        "np.ones(4)"
      ],
      "execution_count": 43,
      "outputs": [
        {
          "output_type": "execute_result",
          "data": {
            "text/plain": [
              "array([1., 1., 1., 1.])"
            ]
          },
          "metadata": {
            "tags": []
          },
          "execution_count": 43
        }
      ]
    },
    {
      "cell_type": "code",
      "metadata": {
        "colab": {
          "base_uri": "https://localhost:8080/"
        },
        "id": "pWAhfMaT5RzT",
        "outputId": "5366f56e-20dd-470b-89d3-bac0e6365ca7"
      },
      "source": [
        "np.ones(4, dtype = int)"
      ],
      "execution_count": 46,
      "outputs": [
        {
          "output_type": "execute_result",
          "data": {
            "text/plain": [
              "array([1, 1, 1, 1])"
            ]
          },
          "metadata": {
            "tags": []
          },
          "execution_count": 46
        }
      ]
    },
    {
      "cell_type": "code",
      "metadata": {
        "colab": {
          "base_uri": "https://localhost:8080/"
        },
        "id": "hbe4MSWU5cKe",
        "outputId": "17ba3b41-b698-4a23-ea83-abb0a8893161"
      },
      "source": [
        "np.ones((2,5), dtype = int)"
      ],
      "execution_count": 48,
      "outputs": [
        {
          "output_type": "execute_result",
          "data": {
            "text/plain": [
              "array([[1, 1, 1, 1, 1],\n",
              "       [1, 1, 1, 1, 1]])"
            ]
          },
          "metadata": {
            "tags": []
          },
          "execution_count": 48
        }
      ]
    },
    {
      "cell_type": "markdown",
      "metadata": {
        "id": "VryFdXxu507T"
      },
      "source": [
        "Random distribution"
      ]
    },
    {
      "cell_type": "code",
      "metadata": {
        "colab": {
          "base_uri": "https://localhost:8080/"
        },
        "id": "hl0HSFLI53QX",
        "outputId": "383e4195-4038-420d-c27a-0a0fc0a1bd65"
      },
      "source": [
        "np.random.rand(3,3)"
      ],
      "execution_count": 49,
      "outputs": [
        {
          "output_type": "execute_result",
          "data": {
            "text/plain": [
              "array([[0.73536031, 0.04593364, 0.49966085],\n",
              "       [0.34579736, 0.28166204, 0.33923649],\n",
              "       [0.04977953, 0.37948328, 0.66646786]])"
            ]
          },
          "metadata": {
            "tags": []
          },
          "execution_count": 49
        }
      ]
    },
    {
      "cell_type": "code",
      "metadata": {
        "colab": {
          "base_uri": "https://localhost:8080/"
        },
        "id": "rdfcKtLu6TIZ",
        "outputId": "8c12504d-afa3-40ce-bdc0-6429972dc9f4"
      },
      "source": [
        "arr_ex = np.random.randn(4,4)\n",
        "arr_ex"
      ],
      "execution_count": 51,
      "outputs": [
        {
          "output_type": "execute_result",
          "data": {
            "text/plain": [
              "array([[ 0.43049315, -0.86482934, -0.47456351, -1.4060624 ],\n",
              "       [-1.23924883,  1.41893591,  0.65522889,  0.15810888],\n",
              "       [-1.52452247,  2.58370643,  1.02586061,  0.25758402],\n",
              "       [-1.49395881,  1.11957248,  0.48941239, -0.25424404]])"
            ]
          },
          "metadata": {
            "tags": []
          },
          "execution_count": 51
        }
      ]
    }
  ]
}