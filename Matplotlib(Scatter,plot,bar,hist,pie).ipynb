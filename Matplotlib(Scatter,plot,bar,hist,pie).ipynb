{
  "nbformat": 4,
  "nbformat_minor": 0,
  "metadata": {
    "colab": {
      "name": "Matplotlib(Scatter,plot,bar,hist,pie).ipynb",
      "provenance": [],
      "authorship_tag": "ABX9TyNY3ihnbSc6Cgricz6f6uGs",
      "include_colab_link": true
    },
    "kernelspec": {
      "name": "python3",
      "display_name": "Python 3"
    },
    "language_info": {
      "name": "python"
    }
  },
  "cells": [
    {
      "cell_type": "markdown",
      "metadata": {
        "id": "view-in-github",
        "colab_type": "text"
      },
      "source": [
        "<a href=\"https://colab.research.google.com/github/JayDock/My-journey-to-Machine-Learning/blob/main/Matplotlib(Scatter%2Cplot%2Cbar%2Chist%2Cpie).ipynb\" target=\"_parent\"><img src=\"https://colab.research.google.com/assets/colab-badge.svg\" alt=\"Open In Colab\"/></a>"
      ]
    },
    {
      "cell_type": "markdown",
      "metadata": {
        "id": "fURZBzMn-wpF"
      },
      "source": [
        "# **Matplotlib is a plotting library for the Python programming language and its numerical mathematics extension NumPy. It provides an object-oriented API for embedding plots into applications using general-purpose GUI toolkits like Tkinter, wxPython, Qt, or GTK+.**\n"
      ]
    },
    {
      "cell_type": "code",
      "metadata": {
        "id": "7SeEbsH_-VjW"
      },
      "source": [
        "import matplotlib.pyplot as plt\n",
        "%matplotlib inline"
      ],
      "execution_count": 4,
      "outputs": []
    },
    {
      "cell_type": "code",
      "metadata": {
        "id": "u-w4X_RhDmAK"
      },
      "source": [
        "import numpy as np"
      ],
      "execution_count": 5,
      "outputs": []
    },
    {
      "cell_type": "markdown",
      "metadata": {
        "id": "hIW9ygkJD5kW"
      },
      "source": [
        "**A small example**"
      ]
    },
    {
      "cell_type": "code",
      "metadata": {
        "id": "o4s0l7EwD877"
      },
      "source": [
        "x = np.arange(0,10)\n",
        "y = np.arange(11,21)"
      ],
      "execution_count": 6,
      "outputs": []
    },
    {
      "cell_type": "markdown",
      "metadata": {
        "id": "nVVoAZap-vnt"
      },
      "source": [
        "**Scatter plot= pltting in a scattered manner,in this example pltting pounts between x and y as shown below:**"
      ]
    },
    {
      "cell_type": "code",
      "metadata": {
        "colab": {
          "base_uri": "https://localhost:8080/",
          "height": 283
        },
        "id": "8nEV9WUQEU-i",
        "outputId": "50ac7234-da22-48f0-f0c9-697464f75a83"
      },
      "source": [
        "plt.scatter(x,y,c='r')"
      ],
      "execution_count": 7,
      "outputs": [
        {
          "output_type": "execute_result",
          "data": {
            "text/plain": [
              "<matplotlib.collections.PathCollection at 0x7f0a1be14b10>"
            ]
          },
          "metadata": {
            "tags": []
          },
          "execution_count": 7
        },
        {
          "output_type": "display_data",
          "data": {
            "image/png": "[encoded data removed]",
            "text/plain": [
              "<Figure size 432x288 with 1 Axes>"
            ]
          },
          "metadata": {
            "tags": [],
            "needs_background": "light"
          }
        }
      ]
    },
    {
      "cell_type": "markdown",
      "metadata": {
        "id": "JouNtGT7Ez5f"
      },
      "source": [
        "The above plot can be downloaded by right clicking"
      ]
    },
    {
      "cell_type": "markdown",
      "metadata": {
        "id": "WDkvVPsnEv33"
      },
      "source": [
        "**Now going to add some more styles**"
      ]
    },
    {
      "cell_type": "code",
      "metadata": {
        "colab": {
          "base_uri": "https://localhost:8080/",
          "height": 295
        },
        "id": "89W_Yr1ME7AO",
        "outputId": "e176fa2f-0571-40aa-f33b-a3a6c6b4abc7"
      },
      "source": [
        "plt.scatter(x,y,c = 'r')\n",
        "plt.xlabel('x-Axis')\n",
        "plt.ylabel('y-Axis')\n",
        "plt.title('Graph in 2-D')\n",
        "plt.savefig('Test.png')"
      ],
      "execution_count": 8,
      "outputs": [
        {
          "output_type": "display_data",
          "data": {
            "image/png": "[encoded data removed]",
            "text/plain": [
              "<Figure size 432x288 with 1 Axes>"
            ]
          },
          "metadata": {
            "tags": [],
            "needs_background": "light"
          }
        }
      ]
    },
    {
      "cell_type": "markdown",
      "metadata": {
        "id": "uDRKbn43GLoI"
      },
      "source": [
        "# next is PLOT"
      ]
    },
    {
      "cell_type": "code",
      "metadata": {
        "id": "D4XqcaoMFd_G"
      },
      "source": [
        "y = x*x"
      ],
      "execution_count": 9,
      "outputs": []
    },
    {
      "cell_type": "code",
      "metadata": {
        "colab": {
          "base_uri": "https://localhost:8080/",
          "height": 283
        },
        "id": "JWVE3BCyGTIe",
        "outputId": "825a09d7-8f7b-4257-aeda-1fc58f573267"
      },
      "source": [
        "plt.plot(x,y,'r')"
      ],
      "execution_count": 10,
      "outputs": [
        {
          "output_type": "execute_result",
          "data": {
            "text/plain": [
              "[<matplotlib.lines.Line2D at 0x7f0a1b437b90>]"
            ]
          },
          "metadata": {
            "tags": []
          },
          "execution_count": 10
        },
        {
          "output_type": "display_data",
          "data": {
            "image/png": "[encoded data removed]",
            "text/plain": [
              "<Figure size 432x288 with 1 Axes>"
            ]
          },
          "metadata": {
            "tags": [],
            "needs_background": "light"
          }
        }
      ]
    },
    {
      "cell_type": "code",
      "metadata": {
        "colab": {
          "base_uri": "https://localhost:8080/",
          "height": 283
        },
        "id": "OrONCPZXGdGK",
        "outputId": "138750e6-092e-4fcb-a477-8e232af71583"
      },
      "source": [
        "plt.plot(x,y,'r--')"
      ],
      "execution_count": 11,
      "outputs": [
        {
          "output_type": "execute_result",
          "data": {
            "text/plain": [
              "[<matplotlib.lines.Line2D at 0x7f0a1b366790>]"
            ]
          },
          "metadata": {
            "tags": []
          },
          "execution_count": 11
        },
        {
          "output_type": "display_data",
          "data": {
            "image/png": "[encoded data removed]",
            "text/plain": [
              "<Figure size 432x288 with 1 Axes>"
            ]
          },
          "metadata": {
            "tags": [],
            "needs_background": "light"
          }
        }
      ]
    },
    {
      "cell_type": "code",
      "metadata": {
        "colab": {
          "base_uri": "https://localhost:8080/",
          "height": 283
        },
        "id": "CcXW_T9mGggk",
        "outputId": "75c5b322-f7b9-42d2-8dc1-b8919220872c"
      },
      "source": [
        "plt.plot(x,y,'ro')"
      ],
      "execution_count": 13,
      "outputs": [
        {
          "output_type": "execute_result",
          "data": {
            "text/plain": [
              "[<matplotlib.lines.Line2D at 0x7f0a1b225550>]"
            ]
          },
          "metadata": {
            "tags": []
          },
          "execution_count": 13
        },
        {
          "output_type": "display_data",
          "data": {
            "image/png": "[encoded data removed]",
            "text/plain": [
              "<Figure size 432x288 with 1 Axes>"
            ]
          },
          "metadata": {
            "tags": [],
            "needs_background": "light"
          }
        }
      ]
    },
    {
      "cell_type": "code",
      "metadata": {
        "colab": {
          "base_uri": "https://localhost:8080/",
          "height": 283
        },
        "id": "DvStMHw_GlkC",
        "outputId": "550b6161-f607-4f48-c3a8-d3a4262456eb"
      },
      "source": [
        "plt.plot(x,y,'ro--')"
      ],
      "execution_count": 14,
      "outputs": [
        {
          "output_type": "execute_result",
          "data": {
            "text/plain": [
              "[<matplotlib.lines.Line2D at 0x7f0a1b214bd0>]"
            ]
          },
          "metadata": {
            "tags": []
          },
          "execution_count": 14
        },
        {
          "output_type": "display_data",
          "data": {
            "image/png": "[encoded data removed]",
            "text/plain": [
              "<Figure size 432x288 with 1 Axes>"
            ]
          },
          "metadata": {
            "tags": [],
            "needs_background": "light"
          }
        }
      ]
    },
    {
      "cell_type": "code",
      "metadata": {
        "colab": {
          "base_uri": "https://localhost:8080/",
          "height": 313
        },
        "id": "DpmpC1sZG4LV",
        "outputId": "47cb05ea-8727-4b27-d3e3-03349fa0e9b5"
      },
      "source": [
        "plt.plot(x,y,'r*', linestyle = 'dashed', linewidth = 2, markersize = 12)\n",
        "plt.xlabel('x Axis')\n",
        "plt.ylabel('y Axis')\n",
        "plt.title('2-D Diagram')"
      ],
      "execution_count": 16,
      "outputs": [
        {
          "output_type": "execute_result",
          "data": {
            "text/plain": [
              "Text(0.5, 1.0, '2-D Diagram')"
            ]
          },
          "metadata": {
            "tags": []
          },
          "execution_count": 16
        },
        {
          "output_type": "display_data",
          "data": {
            "image/png": "[encoded data removed]",
            "text/plain": [
              "<Figure size 432x288 with 1 Axes>"
            ]
          },
          "metadata": {
            "tags": [],
            "needs_background": "light"
          }
        }
      ]
    },
    {
      "cell_type": "markdown",
      "metadata": {
        "id": "naBLGA81H1E3"
      },
      "source": [
        "# **Creating subplots - means within one canvas we are creating multiple subplots**"
      ]
    },
    {
      "cell_type": "code",
      "metadata": {
        "colab": {
          "base_uri": "https://localhost:8080/",
          "height": 283
        },
        "id": "8eKkI6y_H9XT",
        "outputId": "15224df2-7a67-4096-b66e-9a4de5b39224"
      },
      "source": [
        "plt.subplot(2,2,1)   #(nrows,ncols,position)\n",
        "plt.plot(x,y,'r--')\n",
        "\n",
        "plt.subplot(2,2,2)\n",
        "plt.plot(x,y,'g')\n",
        "\n",
        "plt.subplot(2,2,3)\n",
        "plt.plot(x,y,'b')\n",
        "\n",
        "plt.subplot(2,2,4)\n",
        "plt.plot(x,y,'go')"
      ],
      "execution_count": 19,
      "outputs": [
        {
          "output_type": "execute_result",
          "data": {
            "text/plain": [
              "[<matplotlib.lines.Line2D at 0x7f0a1ba8eb90>]"
            ]
          },
          "metadata": {
            "tags": []
          },
          "execution_count": 19
        },
        {
          "output_type": "display_data",
          "data": {
            "image/png": "[encoded data removed]",
            "text/plain": [
              "<Figure size 432x288 with 4 Axes>"
            ]
          },
          "metadata": {
            "tags": [],
            "needs_background": "light"
          }
        }
      ]
    },
    {
      "cell_type": "markdown",
      "metadata": {
        "id": "9nte10eZJovx"
      },
      "source": [
        "# **Example of giving some complicated operations on array and plotting it.**"
      ]
    },
    {
      "cell_type": "code",
      "metadata": {
        "colab": {
          "base_uri": "https://localhost:8080/",
          "height": 313
        },
        "id": "dT5MlS_oJzh_",
        "outputId": "e2feeb70-d14d-47f1-e35d-13ad5cf13ed4"
      },
      "source": [
        "x = np.arange(1,11)\n",
        "y = 3 * x + 5\n",
        "plt.title('Matplotlib Demo')\n",
        "plt.xlabel('x-Axis')\n",
        "plt.ylabel('y-Axis')\n",
        "plt.plot(x,y)"
      ],
      "execution_count": 21,
      "outputs": [
        {
          "output_type": "execute_result",
          "data": {
            "text/plain": [
              "[<matplotlib.lines.Line2D at 0x7f0a1b088b90>]"
            ]
          },
          "metadata": {
            "tags": []
          },
          "execution_count": 21
        },
        {
          "output_type": "display_data",
          "data": {
            "image/png": "[encoded data removed]",
            "text/plain": [
              "<Figure size 432x288 with 1 Axes>"
            ]
          },
          "metadata": {
            "tags": [],
            "needs_background": "light"
          }
        }
      ]
    },
    {
      "cell_type": "markdown",
      "metadata": {
        "id": "NQYYiUuyKjKz"
      },
      "source": [
        "**Creating some sine waves**"
      ]
    },
    {
      "cell_type": "code",
      "metadata": {
        "colab": {
          "base_uri": "https://localhost:8080/"
        },
        "id": "sExNthn8KYTP",
        "outputId": "76093584-5a09-41b4-f643-23ff51b9e170"
      },
      "source": [
        "np.pi"
      ],
      "execution_count": 22,
      "outputs": [
        {
          "output_type": "execute_result",
          "data": {
            "text/plain": [
              "3.141592653589793"
            ]
          },
          "metadata": {
            "tags": []
          },
          "execution_count": 22
        }
      ]
    },
    {
      "cell_type": "code",
      "metadata": {
        "colab": {
          "base_uri": "https://localhost:8080/",
          "height": 299
        },
        "id": "SSP2flK9Kps6",
        "outputId": "5c446242-7b9d-49b6-aef5-ff59c583eb85"
      },
      "source": [
        "x = np.arange(0, 4 * np.pi, 0.1)\n",
        "y = np.sin(x)\n",
        "plt.title('sin wave')\n",
        "\n",
        "plt.plot(x,y)"
      ],
      "execution_count": 24,
      "outputs": [
        {
          "output_type": "execute_result",
          "data": {
            "text/plain": [
              "[<matplotlib.lines.Line2D at 0x7f0a1adb4190>]"
            ]
          },
          "metadata": {
            "tags": []
          },
          "execution_count": 24
        },
        {
          "output_type": "display_data",
          "data": {
            "image/png": "[encoded data removed]",
            "text/plain": [
              "<Figure size 432x288 with 1 Axes>"
            ]
          },
          "metadata": {
            "tags": [],
            "needs_background": "light"
          }
        }
      ]
    },
    {
      "cell_type": "markdown",
      "metadata": {
        "id": "S6rdcfgVLlhl"
      },
      "source": [
        "Uding subplots concept to plt sin and cosine waves"
      ]
    },
    {
      "cell_type": "code",
      "metadata": {
        "colab": {
          "base_uri": "https://localhost:8080/",
          "height": 299
        },
        "id": "ozoUviUSLlJP",
        "outputId": "de8415f1-2008-4a14-d6d5-dbff2a70be2e"
      },
      "source": [
        "x = np.arange(0, 4 * np.pi, 0.1)\n",
        "y_sin = np.sin(x)\n",
        "y_cos = np.cos(x)\n",
        "\n",
        "plt.subplot(2,1,1)\n",
        "plt.plot(x,y_sin,'r--')\n",
        "plt.title('sin wave')\n",
        "\n",
        "plt.subplot(2,1,2)\n",
        "plt.plot(x,y_cos,'g--')\n",
        "plt.title('cosine wave')"
      ],
      "execution_count": 26,
      "outputs": [
        {
          "output_type": "execute_result",
          "data": {
            "text/plain": [
              "Text(0.5, 1.0, 'cosine wave')"
            ]
          },
          "metadata": {
            "tags": []
          },
          "execution_count": 26
        },
        {
          "output_type": "display_data",
          "data": {
            "image/png": "[encoded data removed]",
            "text/plain": [
              "<Figure size 432x288 with 2 Axes>"
            ]
          },
          "metadata": {
            "tags": [],
            "needs_background": "light"
          }
        }
      ]
    },
    {
      "cell_type": "markdown",
      "metadata": {
        "id": "uE4zkNL_MrTf"
      },
      "source": [
        "# **Bar Plot**"
      ]
    },
    {
      "cell_type": "code",
      "metadata": {
        "colab": {
          "base_uri": "https://localhost:8080/",
          "height": 313
        },
        "id": "p5uxSwz7Mutl",
        "outputId": "0ec8d83d-0a6d-4d21-ecba-32f8bf1befd4"
      },
      "source": [
        "x = [2,8,10]\n",
        "y = [11,16,19]\n",
        "\n",
        "x1 = [3,9,11]\n",
        "y1 = [6,15,7]\n",
        "\n",
        "plt.bar(x,y, color = 'r')\n",
        "plt.bar(x1,y1,color = 'g')\n",
        "\n",
        "plt.title('Bar Graph')\n",
        "plt.xlabel('x Axis')\n",
        "plt.ylabel('y Axis')\n",
        "\n"
      ],
      "execution_count": 30,
      "outputs": [
        {
          "output_type": "execute_result",
          "data": {
            "text/plain": [
              "Text(0, 0.5, 'y Axis')"
            ]
          },
          "metadata": {
            "tags": []
          },
          "execution_count": 30
        },
        {
          "output_type": "display_data",
          "data": {
            "image/png": "[encoded data removed]",
            "text/plain": [
              "<Figure size 432x288 with 1 Axes>"
            ]
          },
          "metadata": {
            "tags": [],
            "needs_background": "light"
          }
        }
      ]
    },
    {
      "cell_type": "markdown",
      "metadata": {
        "id": "iGTn7lrqOBXT"
      },
      "source": [
        "# **Histograms**"
      ]
    },
    {
      "cell_type": "code",
      "metadata": {
        "colab": {
          "base_uri": "https://localhost:8080/",
          "height": 299
        },
        "id": "Jq4A7nrNOEbR",
        "outputId": "13fc0613-57f2-4d06-ebb4-f46814897219"
      },
      "source": [
        "a = np.array([22,87,5,43,56,73,55,54,11,20,51,5,79,31,27]) \n",
        "plt.hist(a)\n",
        "plt.title('Histograms')"
      ],
      "execution_count": 32,
      "outputs": [
        {
          "output_type": "execute_result",
          "data": {
            "text/plain": [
              "Text(0.5, 1.0, 'Histograms')"
            ]
          },
          "metadata": {
            "tags": []
          },
          "execution_count": 32
        },
        {
          "output_type": "display_data",
          "data": {
            "image/png": "[encoded data removed]",
            "text/plain": [
              "<Figure size 432x288 with 1 Axes>"
            ]
          },
          "metadata": {
            "tags": [],
            "needs_background": "light"
          }
        }
      ]
    },
    {
      "cell_type": "markdown",
      "metadata": {
        "id": "OUH5DwdAOrhA"
      },
      "source": [
        "Histogram actually give the density of the corresponding data..the x axis represtend on the basis on bins. In histogram, the default bin size is 10 "
      ]
    },
    {
      "cell_type": "code",
      "metadata": {
        "colab": {
          "base_uri": "https://localhost:8080/",
          "height": 299
        },
        "id": "a7DQjVW2O7On",
        "outputId": "13b54958-3e4e-4024-e242-61c93a8c806c"
      },
      "source": [
        "a = np.array([22,87,5,43,56,73,55,54,11,20,51,5,79,31,27]) \n",
        "plt.hist(a, bins = 20)\n",
        "plt.title('Histograms')"
      ],
      "execution_count": 36,
      "outputs": [
        {
          "output_type": "execute_result",
          "data": {
            "text/plain": [
              "Text(0.5, 1.0, 'Histograms')"
            ]
          },
          "metadata": {
            "tags": []
          },
          "execution_count": 36
        },
        {
          "output_type": "display_data",
          "data": {
            "image/png": "[encoded data removed]",
            "text/plain": [
              "<Figure size 432x288 with 1 Axes>"
            ]
          },
          "metadata": {
            "tags": [],
            "needs_background": "light"
          }
        }
      ]
    },
    {
      "cell_type": "markdown",
      "metadata": {
        "id": "q6EA1HTUPszS"
      },
      "source": [
        "# **Box Plot using Matplotlib**"
      ]
    },
    {
      "cell_type": "code",
      "metadata": {
        "colab": {
          "base_uri": "https://localhost:8080/"
        },
        "id": "-5wfM2EUPx4n",
        "outputId": "7690759a-2241-4fb0-d417-c9afd2020ce4"
      },
      "source": [
        "data = [np.random.normal(0,std,100) for std in range(1,4)] #selecting a normal distribution between some lower value(0) to standard deviation(std)\n",
        "                                                          #where std is in the range from 1 to 4\n",
        "data"
      ],
      "execution_count": 38,
      "outputs": [
        {
          "output_type": "execute_result",
          "data": {
            "text/plain": [
              "[array([-1.09441587e+00,  1.47477677e+00,  1.36986601e+00,  6.80278937e-01,\n",
              "        -2.02290656e-01,  4.47272934e-01,  2.06167888e-01,  1.02449520e+00,\n",
              "         1.54653246e+00,  1.94168658e-01, -8.32036460e-01, -5.17735340e-01,\n",
              "         1.02649905e-01,  1.07015930e+00, -3.74497303e-01, -1.60253118e-01,\n",
              "         5.80531392e-01, -1.09062272e+00, -7.76744134e-01,  1.06866851e-01,\n",
              "        -6.33233652e-01, -4.06906889e-01,  4.54177869e-01, -1.34290874e+00,\n",
              "         2.08401132e+00,  4.87023174e-02,  9.54074809e-01,  3.24035811e-01,\n",
              "         8.73082290e-01,  2.24216000e-01, -6.85160419e-01, -1.32815102e+00,\n",
              "        -1.43851500e+00,  1.81738696e-01, -2.85778864e-01,  1.59710815e+00,\n",
              "         2.53421029e+00, -6.58208103e-02, -8.05909165e-01,  7.61781109e-03,\n",
              "         1.62871428e+00, -1.91141614e-01,  8.12684532e-01, -6.10063892e-01,\n",
              "         1.06807301e+00,  1.22242899e+00, -3.24858739e-01,  8.38626344e-01,\n",
              "        -1.02021587e+00,  9.65190228e-01,  1.98825087e+00, -1.53077443e+00,\n",
              "        -6.67046443e-01, -1.77527633e+00,  1.79060390e-01, -9.03211701e-01,\n",
              "        -3.75513946e-01,  3.32179802e-01,  6.59158989e-01,  2.22352836e-01,\n",
              "        -3.74396512e-01, -6.80030276e-01, -5.82078448e-01,  1.36113848e-01,\n",
              "        -8.00010341e-01, -1.61770691e-03,  9.72413469e-02, -9.86159270e-01,\n",
              "         9.51760800e-02, -9.36048052e-01, -1.54122185e+00,  4.98755871e-01,\n",
              "         6.05341612e-01, -1.00593780e-01,  3.70437239e-02, -1.67800591e-01,\n",
              "        -6.23379933e-01, -2.05362222e+00,  6.05228619e-01,  7.90474190e-01,\n",
              "         1.82407974e+00, -5.98800645e-02, -1.04060900e-01,  5.04536827e-01,\n",
              "        -8.01762679e-01,  1.29900512e+00,  5.01568416e-01,  4.27898169e-01,\n",
              "        -7.83166304e-01,  1.05437469e+00,  1.06622550e-01,  2.26991658e-01,\n",
              "         9.33102927e-01,  1.76972362e+00,  2.21507446e-01, -2.12378864e+00,\n",
              "         2.03390563e+00, -2.47720622e-01,  4.01124401e-01,  1.55900292e+00]),\n",
              " array([-1.23590658,  1.61105133, -2.22351328,  0.53571519,  1.74888918,\n",
              "        -3.35076231,  3.00489532, -1.03363834,  0.01855614,  1.36757457,\n",
              "        -0.93775177,  1.63234163,  0.77351768,  0.18749872,  0.47260123,\n",
              "         2.66958022, -4.2121257 , -1.33679211, -1.55606942,  0.60117893,\n",
              "         0.83835454, -0.39933563,  1.08182536,  2.22407946, -2.89600066,\n",
              "        -2.26255951,  5.82077651, -2.21880197,  2.76831182,  0.71950981,\n",
              "        -1.12585334,  0.3055375 ,  3.76837742, -3.75936143,  0.7783907 ,\n",
              "         0.87553154,  0.80749977, -3.27305483,  3.83681255, -1.21823096,\n",
              "        -1.19849524, -2.658813  , -0.51239378, -0.18929305,  1.15859234,\n",
              "         0.52377144, -2.17467873, -3.69268225,  1.84200518, -0.56038516,\n",
              "         1.22244118, -0.6129643 , -5.15075948,  0.99911066,  1.82941204,\n",
              "        -1.75327794, -2.25215973,  0.19613793, -2.80820799,  2.25115086,\n",
              "         1.7624484 ,  0.84309802,  1.29555274, -0.37791866, -2.92404577,\n",
              "        -0.85135169,  2.45763914, -0.76537117, -0.93167994, -1.44368613,\n",
              "        -1.72469682,  0.74465075, -0.78418241,  3.51009597,  3.24451774,\n",
              "         0.9289536 , -1.19806865,  1.72668383, -0.69315466, -0.47174662,\n",
              "         4.34298042,  1.05759123, -1.72805943,  2.31867641,  3.68234529,\n",
              "        -0.37824013,  3.24342309,  0.92747702, -0.61761248, -2.11879389,\n",
              "         1.07954907, -0.27664352,  3.54004043,  0.58308672,  0.02142531,\n",
              "        -3.06804053, -0.35509699,  1.46680229,  0.34289625,  0.26084109]),\n",
              " array([-0.32347971, -6.64369459,  5.04857702, -4.17823585, -2.93362348,\n",
              "         1.59413526,  0.81597566,  6.18080948,  9.19950113,  2.32058175,\n",
              "        -0.47734417, -0.68209302,  4.03560105,  2.33054481, -1.27578701,\n",
              "        -3.65530146,  3.13742761,  2.54443111,  3.84658736,  0.86428048,\n",
              "        -0.88351433,  2.36503926,  1.09028916, -4.98252704,  7.90601404,\n",
              "         1.19686124, -0.16164735,  0.32419546, -0.22725317, -0.55896167,\n",
              "        -1.79353701, -0.50893997, -0.47974055, -2.68711466,  5.95892603,\n",
              "         1.5614295 , -3.58816061,  2.63752409, -6.1726071 ,  2.25181854,\n",
              "        -3.53740399,  1.59027873, -5.21479481,  3.77794242,  1.75497259,\n",
              "         3.31003109, -1.43800514, -2.33493456, -0.66036722,  5.29100649,\n",
              "        -6.10249771, -2.59261266, -4.41322233,  3.35552346,  2.16341945,\n",
              "         2.22937731,  7.03535613,  2.11048944,  5.42929827, -0.38577038,\n",
              "        -8.31166272,  3.03418967,  1.50465678,  2.79148928,  0.76076834,\n",
              "         5.66800225,  0.53765944,  2.54726881,  1.52266371, -3.0408554 ,\n",
              "         0.20968059, -1.58586733,  5.90380397, -4.06436561,  4.07634398,\n",
              "         1.24283394,  2.67889322,  2.35760561,  1.51351961,  4.2761216 ,\n",
              "         2.39868956, -4.44512037, -1.34243782, -0.02830649, -3.58343984,\n",
              "         4.51297983,  0.80994496, -1.28361463,  1.43888513,  1.72632646,\n",
              "         1.92460765,  0.40892471, -0.28081883,  0.56572459, -0.99131245,\n",
              "         1.93709966,  4.9460273 , -0.54035918, -0.05692892, -2.52068502])]"
            ]
          },
          "metadata": {
            "tags": []
          },
          "execution_count": 38
        }
      ]
    },
    {
      "cell_type": "code",
      "metadata": {
        "colab": {
          "base_uri": "https://localhost:8080/",
          "height": 671
        },
        "id": "qD1mjY3_WXTI",
        "outputId": "dfcaf36e-0d5b-47e7-f125-0fd3036fb805"
      },
      "source": [
        "data = [np.random.normal(0,std,100) for std in range(1,4)] \n",
        "plt.boxplot(data, vert = True, patch_artist=True)"
      ],
      "execution_count": 39,
      "outputs": [
        {
          "output_type": "execute_result",
          "data": {
            "text/plain": [
              "{'boxes': [<matplotlib.patches.PathPatch at 0x7f0a16a833d0>,\n",
              "  <matplotlib.patches.PathPatch at 0x7f0a169d8fd0>,\n",
              "  <matplotlib.patches.PathPatch at 0x7f0a1692b810>],\n",
              " 'caps': [<matplotlib.lines.Line2D at 0x7f0a16983990>,\n",
              "  <matplotlib.lines.Line2D at 0x7f0a169d8a50>,\n",
              "  <matplotlib.lines.Line2D at 0x7f0a16918790>,\n",
              "  <matplotlib.lines.Line2D at 0x7f0a16918310>,\n",
              "  <matplotlib.lines.Line2D at 0x7f0a168e7650>,\n",
              "  <matplotlib.lines.Line2D at 0x7f0a168e7bd0>],\n",
              " 'fliers': [<matplotlib.lines.Line2D at 0x7f0a169e9110>,\n",
              "  <matplotlib.lines.Line2D at 0x7f0a1692bad0>,\n",
              "  <matplotlib.lines.Line2D at 0x7f0a168ef690>],\n",
              " 'means': [],\n",
              " 'medians': [<matplotlib.lines.Line2D at 0x7f0a169d82d0>,\n",
              "  <matplotlib.lines.Line2D at 0x7f0a16918e90>,\n",
              "  <matplotlib.lines.Line2D at 0x7f0a168ef150>],\n",
              " 'whiskers': [<matplotlib.lines.Line2D at 0x7f0a169ef710>,\n",
              "  <matplotlib.lines.Line2D at 0x7f0a1698ae10>,\n",
              "  <matplotlib.lines.Line2D at 0x7f0a16aedbd0>,\n",
              "  <matplotlib.lines.Line2D at 0x7f0a169955d0>,\n",
              "  <matplotlib.lines.Line2D at 0x7f0a1692bd50>,\n",
              "  <matplotlib.lines.Line2D at 0x7f0a168e7110>]}"
            ]
          },
          "metadata": {
            "tags": []
          },
          "execution_count": 39
        },
        {
          "output_type": "display_data",
          "data": {
            "image/png": "[encoded data removed]",
            "text/plain": [
              "<Figure size 432x288 with 1 Axes>"
            ]
          },
          "metadata": {
            "tags": [],
            "needs_background": "light"
          }
        }
      ]
    },
    {
      "cell_type": "markdown",
      "metadata": {
        "id": "DNmFf6_RXMX1"
      },
      "source": [
        "# **Pie Chart**"
      ]
    },
    {
      "cell_type": "code",
      "metadata": {
        "colab": {
          "base_uri": "https://localhost:8080/",
          "height": 248
        },
        "id": "qRotxq8faI7r",
        "outputId": "4ffd763b-1f42-4476-a890-16a7e03f444a"
      },
      "source": [
        "labels = 'Python', 'C++', 'Ruby', 'Java'\n",
        "sizes = [215, 130, 245, 210]\n",
        "colors = ['gold', 'yellowgreen', 'lightcoral', 'lightskyblue']\n",
        "explode = (0.1, 0, 0, 0)  # explode 1st slice\n",
        "\n",
        "# Plot\n",
        "plt.pie(sizes, explode=explode, labels=labels, colors=colors,\n",
        "autopct='%1.1f%%', shadow=True)\n",
        "\n",
        "plt.axis('equal')\n",
        "plt.show()\n",
        "\n"
      ],
      "execution_count": 46,
      "outputs": [
        {
          "output_type": "display_data",
          "data": {
            "image/png": "[encoded data removed]",
            "text/plain": [
              "<Figure size 432x288 with 1 Axes>"
            ]
          },
          "metadata": {
            "tags": []
          }
        }
      ]
    }
  ]
}